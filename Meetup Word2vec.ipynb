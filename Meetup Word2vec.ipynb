{
 "cells": [
  {
   "cell_type": "code",
   "execution_count": 16,
   "metadata": {
    "collapsed": false
   },
   "outputs": [],
   "source": [
    "import pandas as pd\n",
    "from gensim.parsing.preprocessing import STOPWORDS\n",
    "from gensim.models import Word2Vec, Phrases"
   ]
  },
  {
   "cell_type": "code",
   "execution_count": 2,
   "metadata": {
    "collapsed": true
   },
   "outputs": [],
   "source": [
    "#read data\n",
    "dat = pd.read_csv('F:\\Meetup\\Elasticsearch\\Articles.csv',encoding='latin').Article.tolist()\n",
    "stoplist = list(STOPWORDS)"
   ]
  },
  {
   "cell_type": "code",
   "execution_count": 3,
   "metadata": {
    "collapsed": true
   },
   "outputs": [],
   "source": [
    "#remove stop words\n",
    "texts = [[word for word in document.lower().split() if word not in stoplist] for document in dat]"
   ]
  },
  {
   "cell_type": "code",
   "execution_count": null,
   "metadata": {
    "collapsed": true
   },
   "outputs": [],
   "source": [
    "model = Word2Vec(texts, min_count=5)"
   ]
  },
  {
   "cell_type": "code",
   "execution_count": 8,
   "metadata": {
    "collapsed": false
   },
   "outputs": [
    {
     "data": {
      "text/plain": [
       "[(u't20', 0.9794589281082153),\n",
       " (u'cup', 0.9634107351303101),\n",
       " (u'india', 0.9559534788131714),\n",
       " (u'play', 0.9423488974571228),\n",
       " (u'world', 0.9408096671104431),\n",
       " (u'super', 0.9341907501220703),\n",
       " (u'under-19', 0.9324098825454712),\n",
       " (u'league', 0.9144818186759949),\n",
       " (u'match', 0.9130522012710571),\n",
       " (u'tour', 0.8960215449333191)]"
      ]
     },
     "execution_count": 8,
     "metadata": {},
     "output_type": "execute_result"
    }
   ],
   "source": [
    "model.wv.similar_by_word('twenty20')"
   ]
  },
  {
   "cell_type": "code",
   "execution_count": 12,
   "metadata": {
    "collapsed": false
   },
   "outputs": [
    {
     "data": {
      "text/plain": [
       "[(u'fund', 0.9903932809829712),\n",
       " (u'(ioc)', 0.9878398776054382),\n",
       " (u'bank\\x92s', 0.9869521856307983),\n",
       " (u'announced', 0.9860856533050537),\n",
       " (u'policy', 0.9854860305786133),\n",
       " (u'security', 0.9851361513137817),\n",
       " (u'state', 0.984959602355957),\n",
       " (u'collaboration', 0.9845261573791504),\n",
       " (u'(ecb)', 0.9844613671302795),\n",
       " (u'(icc),', 0.9841555953025818)]"
      ]
     },
     "execution_count": 12,
     "metadata": {},
     "output_type": "execute_result"
    }
   ],
   "source": [
    "model.wv.similar_by_word('monetary')"
   ]
  },
  {
   "cell_type": "code",
   "execution_count": 13,
   "metadata": {
    "collapsed": false
   },
   "outputs": [
    {
     "data": {
      "text/plain": [
       "[(u'saudi', 0.9906967282295227),\n",
       " (u'arabia', 0.9816100001335144),\n",
       " (u'supply', 0.9571756720542908),\n",
       " (u'cut', 0.9568064212799072),\n",
       " (u'producers', 0.9542421102523804),\n",
       " (u'organization', 0.9490979313850403),\n",
       " (u'exporting', 0.945861279964447),\n",
       " (u'production', 0.9433931708335876),\n",
       " (u'restrain', 0.9372623562812805),\n",
       " (u'market', 0.9360257983207703)]"
      ]
     },
     "execution_count": 13,
     "metadata": {},
     "output_type": "execute_result"
    }
   ],
   "source": [
    "model.wv.similar_by_word('opec')"
   ]
  },
  {
   "cell_type": "markdown",
   "metadata": {},
   "source": [
    "## Bigram Word2vec"
   ]
  },
  {
   "cell_type": "code",
   "execution_count": 22,
   "metadata": {
    "collapsed": true
   },
   "outputs": [],
   "source": [
    "from gensim.models import phrases, word2vec"
   ]
  },
  {
   "cell_type": "code",
   "execution_count": 26,
   "metadata": {
    "collapsed": false
   },
   "outputs": [],
   "source": [
    "bigrams = phrases.Phrases(texts)"
   ]
  },
  {
   "cell_type": "code",
   "execution_count": 28,
   "metadata": {
    "collapsed": false
   },
   "outputs": [],
   "source": [
    "model_bigram = word2vec.Word2Vec(bigrams[texts], size=100, min_count=10, iter=20)"
   ]
  },
  {
   "cell_type": "code",
   "execution_count": 29,
   "metadata": {
    "collapsed": false
   },
   "outputs": [
    {
     "data": {
      "text/plain": [
       "[(u'merger', 0.4079798758029938),\n",
       " (u'determination', 0.3747127950191498),\n",
       " (u'said._\"the', 0.3628052771091461),\n",
       " (u'expert', 0.3271045684814453),\n",
       " (u'free-kick', 0.31617894768714905),\n",
       " (u'team', 0.31414794921875),\n",
       " (u'keeping', 0.3113410174846649),\n",
       " (u'left-hander', 0.30366241931915283),\n",
       " (u'bowler_mohammad', 0.2994208335876465),\n",
       " (u'brussels', 0.29488468170166016)]"
      ]
     },
     "execution_count": 29,
     "metadata": {},
     "output_type": "execute_result"
    }
   ],
   "source": [
    "model_bigram.similar_by_word('twenty20')"
   ]
  },
  {
   "cell_type": "code",
   "execution_count": 31,
   "metadata": {
    "collapsed": false
   },
   "outputs": [
    {
     "data": {
      "text/plain": [
       "[(u'paceman', 0.3748791813850403),\n",
       " (u'ground,', 0.330292671918869),\n",
       " (u'dynamic', 0.3132730722427368),\n",
       " (u\"south_africa's\", 0.312284380197525),\n",
       " (u'younger', 0.3060123324394226),\n",
       " (u'120', 0.30527305603027344),\n",
       " (u'back-foot', 0.3048352897167206),\n",
       " (u'20_percent', 0.3011670708656311),\n",
       " (u'television', 0.29384636878967285),\n",
       " (u'thursday\\xb4s', 0.2936215400695801)]"
      ]
     },
     "execution_count": 31,
     "metadata": {},
     "output_type": "execute_result"
    }
   ],
   "source": [
    "model_bigram.similar_by_word('monetary')"
   ]
  },
  {
   "cell_type": "code",
   "execution_count": 32,
   "metadata": {
    "collapsed": false
   },
   "outputs": [
    {
     "data": {
      "text/plain": [
       "[(u'chamara', 0.36573129892349243),\n",
       " (u'easy', 0.3649636209011078),\n",
       " (u'swept', 0.3613702952861786),\n",
       " (u'juan', 0.3471981883049011),\n",
       " (u'cancel', 0.3372991383075714),\n",
       " (u'wrong', 0.3294651508331299),\n",
       " (u'karachi.', 0.3245276212692261),\n",
       " (u'add', 0.31528615951538086),\n",
       " (u'dwayne_bravo,', 0.3117348253726959),\n",
       " (u'dollar_edged', 0.2941058576107025)]"
      ]
     },
     "execution_count": 32,
     "metadata": {},
     "output_type": "execute_result"
    }
   ],
   "source": [
    "model_bigram.similar_by_word('opec')"
   ]
  },
  {
   "cell_type": "code",
   "execution_count": null,
   "metadata": {
    "collapsed": true
   },
   "outputs": [],
   "source": []
  }
 ],
 "metadata": {
  "kernelspec": {
   "display_name": "Python 2",
   "language": "python",
   "name": "python2"
  },
  "language_info": {
   "codemirror_mode": {
    "name": "ipython",
    "version": 2
   },
   "file_extension": ".py",
   "mimetype": "text/x-python",
   "name": "python",
   "nbconvert_exporter": "python",
   "pygments_lexer": "ipython2",
   "version": "2.7.12"
  }
 },
 "nbformat": 4,
 "nbformat_minor": 1
}
